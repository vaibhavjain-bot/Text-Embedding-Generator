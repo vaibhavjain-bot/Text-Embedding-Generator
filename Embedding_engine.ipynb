{
 "cells": [
  {
   "cell_type": "markdown",
   "metadata": {
    "tags": []
   },
   "source": [
    "Cleaner and more streamlined notebook to generate embeddings from hugging face "
   ]
  },
  {
   "cell_type": "code",
   "execution_count": 1,
   "metadata": {},
   "outputs": [],
   "source": [
    "import pandas as pd \n",
    "import numpy as np\n",
    "import csv\n",
    "import requests\n",
    "model_id = \"sentence-transformers/all-MiniLM-L6-v2\"\n",
    "import json\n",
    "hf_token =\"INPUT YOUR HF TOKEN HERE\"\n",
    "import re\n"
   ]
  },
  {
   "attachments": {},
   "cell_type": "markdown",
   "metadata": {},
   "source": [
    "Callable function to pass the text from dataframes and text input to HF api"
   ]
  },
  {
   "cell_type": "code",
   "execution_count": 2,
   "metadata": {},
   "outputs": [],
   "source": [
    "def generate_embeddings(texts, model_id, hf_token):\n",
    "    api_url = f\"https://api-inference.huggingface.co/pipeline/feature-extraction/{model_id}\"\n",
    "    headers = {\"Authorization\": f\"Bearer {hf_token}\"}\n",
    "    response = requests.post(api_url, headers=headers, json={\"inputs\": texts, \"options\":{\"wait_for_model\":True}})\n",
    "    embeddings = response.json()\n",
    "    return embeddings"
   ]
  },
  {
   "attachments": {},
   "cell_type": "markdown",
   "metadata": {},
   "source": [
    "Method to clean the text file and exporting them as csv"
   ]
  },
  {
   "cell_type": "code",
   "execution_count": null,
   "metadata": {},
   "outputs": [],
   "source": [
    "with open('', 'r') as f:\n",
    "    text = f.read()\n",
    "    paragraphs = re.split(r'(?<!\\n)[\\n.] +(?=[A-Z])', text) # split by '\\n' or full stop with space after\n",
    "\n",
    "with open('', 'w', newline=\"\\n\") as f:\n",
    "    writer = csv.writer(f)\n",
    "    writer.writerow(['text'])  # write header row\n",
    "    for p in paragraphs:\n",
    "        writer.writerow([p.strip()]) "
   ]
  },
  {
   "cell_type": "code",
   "execution_count": 8,
   "metadata": {},
   "outputs": [],
   "source": [
    "df = pd.read_csv(\"\")"
   ]
  },
  {
   "cell_type": "code",
   "execution_count": 9,
   "metadata": {},
   "outputs": [],
   "source": [
    "df_chunks = np.array_split(df, len(df) // 3000 + 1)#change the number to amount of rows in each data frame\n",
    "for i, chunk in enumerate(df_chunks):\n",
    "    # create a new DataFrame with a unique name based on the chunk index\n",
    "    new_df_name = f\"df{i+1}\"\n",
    "    globals()[new_df_name] = chunk.copy()"
   ]
  },
  {
   "attachments": {},
   "cell_type": "markdown",
   "metadata": {},
   "source": [
    "Pass the dataframe here to call the api to generate embeddings and save them in parquet (only)"
   ]
  },
  {
   "cell_type": "code",
   "execution_count": null,
   "metadata": {},
   "outputs": [],
   "source": [
    "df['embedding'] = df['text'].apply(lambda x: generate_embeddings(x, model_id, hf_token))\n",
    "\n",
    "df.to_parquet('.parquet')"
   ]
  },
  {
   "cell_type": "code",
   "execution_count": 16,
   "metadata": {},
   "outputs": [],
   "source": [
    "df= pd.read_parquet('.parquet')\n"
   ]
  },
  {
   "cell_type": "code",
   "execution_count": 12,
   "metadata": {},
   "outputs": [],
   "source": [
    "input_vector = generate_embeddings(\"\"\"The first portion of the mitotic phase is call \"\"\", model_id, hf_token)\n"
   ]
  },
  {
   "attachments": {},
   "cell_type": "markdown",
   "metadata": {},
   "source": [
    ""
   ]
  }
 ],
 "metadata": {
  "kernelspec": {
   "display_name": "Python 3",
   "language": "python",
   "name": "python3"
  },
  "language_info": {
   "codemirror_mode": {
    "name": "ipython",
    "version": 3
   },
   "file_extension": ".py",
   "mimetype": "text/x-python",
   "name": "python",
   "nbconvert_exporter": "python",
   "pygments_lexer": "ipython3",
   "version": "3.9.13"
  },
  "orig_nbformat": 4
 },
 "nbformat": 4,
 "nbformat_minor": 2
}
